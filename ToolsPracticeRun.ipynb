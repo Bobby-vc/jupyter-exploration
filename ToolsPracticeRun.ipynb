{
 "cells": [
  {
   "cell_type": "markdown",
   "id": "85a01abb-25ae-4923-b6e2-810229d5f77e",
   "metadata": {},
   "source": [
    "Bobby's first markdown cell in Jupyter"
   ]
  },
  {
   "cell_type": "code",
   "execution_count": 3,
   "id": "044b00b7-95b0-4bee-93ca-b35d00161da7",
   "metadata": {
    "execution": {
     "iopub.execute_input": "2025-08-28T21:13:35.249801Z",
     "iopub.status.busy": "2025-08-28T21:13:35.249525Z",
     "iopub.status.idle": "2025-08-28T21:13:35.253810Z",
     "shell.execute_reply": "2025-08-28T21:13:35.252995Z",
     "shell.execute_reply.started": "2025-08-28T21:13:35.249780Z"
    }
   },
   "outputs": [
    {
     "name": "stdout",
     "output_type": "stream",
     "text": [
      "Hello Jupyter, My name is Akinbobola Akinpelu\n"
     ]
    }
   ],
   "source": [
    "print (\"Hello Jupyter, My name is Akinbobola Akinpelu\")"
   ]
  },
  {
   "cell_type": "code",
   "execution_count": null,
   "id": "d506f83e-0653-4d6a-84fb-008119c224db",
   "metadata": {},
   "outputs": [],
   "source": []
  }
 ],
 "metadata": {
  "kernelspec": {
   "display_name": "Python 3 (ipykernel)",
   "language": "python",
   "name": "python3"
  },
  "language_info": {
   "codemirror_mode": {
    "name": "ipython",
    "version": 3
   },
   "file_extension": ".py",
   "mimetype": "text/x-python",
   "name": "python",
   "nbconvert_exporter": "python",
   "pygments_lexer": "ipython3",
   "version": "3.12.9"
  }
 },
 "nbformat": 4,
 "nbformat_minor": 5
}
